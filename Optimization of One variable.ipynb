{
 "cells": [
  {
   "cell_type": "code",
   "execution_count": 30,
   "id": "d77adb56",
   "metadata": {},
   "outputs": [
    {
     "data": {
      "text/html": [
       "<div>\n",
       "<style scoped>\n",
       "    .dataframe tbody tr th:only-of-type {\n",
       "        vertical-align: middle;\n",
       "    }\n",
       "\n",
       "    .dataframe tbody tr th {\n",
       "        vertical-align: top;\n",
       "    }\n",
       "\n",
       "    .dataframe thead th {\n",
       "        text-align: right;\n",
       "    }\n",
       "</style>\n",
       "<table border=\"1\" class=\"dataframe\">\n",
       "  <thead>\n",
       "    <tr style=\"text-align: right;\">\n",
       "      <th></th>\n",
       "      <th>date</th>\n",
       "      <th>price_supplier_a_dollars_per_item</th>\n",
       "      <th>price_supplier_b_dollars_per_item</th>\n",
       "    </tr>\n",
       "  </thead>\n",
       "  <tbody>\n",
       "    <tr>\n",
       "      <th>0</th>\n",
       "      <td>1/02/2016</td>\n",
       "      <td>104</td>\n",
       "      <td>76</td>\n",
       "    </tr>\n",
       "    <tr>\n",
       "      <th>1</th>\n",
       "      <td>1/03/2016</td>\n",
       "      <td>108</td>\n",
       "      <td>76</td>\n",
       "    </tr>\n",
       "    <tr>\n",
       "      <th>2</th>\n",
       "      <td>1/04/2016</td>\n",
       "      <td>101</td>\n",
       "      <td>84</td>\n",
       "    </tr>\n",
       "    <tr>\n",
       "      <th>3</th>\n",
       "      <td>1/05/2016</td>\n",
       "      <td>104</td>\n",
       "      <td>79</td>\n",
       "    </tr>\n",
       "    <tr>\n",
       "      <th>4</th>\n",
       "      <td>1/06/2016</td>\n",
       "      <td>102</td>\n",
       "      <td>81</td>\n",
       "    </tr>\n",
       "  </tbody>\n",
       "</table>\n",
       "</div>"
      ],
      "text/plain": [
       "        date  price_supplier_a_dollars_per_item  \\\n",
       "0  1/02/2016                                104   \n",
       "1  1/03/2016                                108   \n",
       "2  1/04/2016                                101   \n",
       "3  1/05/2016                                104   \n",
       "4  1/06/2016                                102   \n",
       "\n",
       "   price_supplier_b_dollars_per_item  \n",
       "0                                 76  \n",
       "1                                 76  \n",
       "2                                 84  \n",
       "3                                 79  \n",
       "4                                 81  "
      ]
     },
     "execution_count": 30,
     "metadata": {},
     "output_type": "execute_result"
    }
   ],
   "source": [
    "from jax import grad\n",
    "import pandas as pd\n",
    "import jax.numpy as np\n",
    "\n",
    "data = pd.read_csv(\"E:/Coursera/Calculus for Machine Learning/prices.csv\")\n",
    "df = pd.DataFrame(data)\n",
    "df.head()"
   ]
  },
  {
   "cell_type": "code",
   "execution_count": 31,
   "id": "f3b7c80c",
   "metadata": {},
   "outputs": [],
   "source": [
    "prices_a = np.array(df[\"price_supplier_a_dollars_per_item\"])\n",
    "prices_b = np.array(df[\"price_supplier_b_dollars_per_item\"])"
   ]
  },
  {
   "cell_type": "code",
   "execution_count": 32,
   "id": "13b2893c",
   "metadata": {},
   "outputs": [
    {
     "data": {
      "text/plain": [
       "Array([104, 108, 101, 104, 102, 105, 114, 102, 105, 101, 109, 103,  93,\n",
       "        98,  92,  97,  96,  94,  97,  93,  99,  93,  98,  94,  93,  92,\n",
       "        96,  98,  98,  93,  97, 102, 103, 100, 100, 104, 100, 103, 104,\n",
       "       101, 102, 100, 102, 108, 107, 107, 103, 109, 108, 108],      dtype=int32)"
      ]
     },
     "execution_count": 32,
     "metadata": {},
     "output_type": "execute_result"
    }
   ],
   "source": [
    "def f(omega):\n",
    "    value = prices_a * omega + prices_b * (1-omega)\n",
    "    return value\n",
    "f(1)"
   ]
  },
  {
   "cell_type": "code",
   "execution_count": 33,
   "id": "46609b43",
   "metadata": {},
   "outputs": [],
   "source": [
    "def L(omega):\n",
    "    return 1/len(prices_a) * np.sum((f(omega) - np.mean(f(omega)))**2)\n"
   ]
  },
  {
   "cell_type": "code",
   "execution_count": 59,
   "id": "ef077172",
   "metadata": {},
   "outputs": [],
   "source": [
    "omega_array = np.linspace(0,1,1001,endpoint=True)\n",
    "N = 1001\n",
    "def L_omega_array(omega_array):\n",
    "    N = len(omega_array)\n",
    "    new_array = np.zeros(N)\n",
    "    for i in range(N):\n",
    "        ans = L(omega_array[i])\n",
    "        new_array = new_array.at[i].set(ans)\n",
    "    return new_array\n",
    "new_array = L_omega_array(omega_array)"
   ]
  },
  {
   "cell_type": "code",
   "execution_count": 60,
   "id": "561d97f3",
   "metadata": {},
   "outputs": [
    {
     "data": {
      "text/plain": [
       "Array(110.72, dtype=float32)"
      ]
     },
     "execution_count": 60,
     "metadata": {},
     "output_type": "execute_result"
    }
   ],
   "source": [
    "new_array[0]"
   ]
  },
  {
   "cell_type": "code",
   "execution_count": 63,
   "id": "b8917f27",
   "metadata": {},
   "outputs": [
    {
     "data": {
      "text/plain": [
       "(Array(0.702, dtype=float32), Array(9.24972, dtype=float32))"
      ]
     },
     "execution_count": 63,
     "metadata": {},
     "output_type": "execute_result"
    }
   ],
   "source": [
    "i_optimized  = new_array.argmin()\n",
    "omega_optimized = omega_array[i_optimized]\n",
    "L_optimized = new_array[i_optimized]\n",
    "omega_optimized,L_optimized"
   ]
  },
  {
   "cell_type": "code",
   "execution_count": null,
   "id": "bede3bb7",
   "metadata": {},
   "outputs": [],
   "source": []
  }
 ],
 "metadata": {
  "kernelspec": {
   "display_name": "Python 3 (ipykernel)",
   "language": "python",
   "name": "python3"
  },
  "language_info": {
   "codemirror_mode": {
    "name": "ipython",
    "version": 3
   },
   "file_extension": ".py",
   "mimetype": "text/x-python",
   "name": "python",
   "nbconvert_exporter": "python",
   "pygments_lexer": "ipython3",
   "version": "3.11.3"
  }
 },
 "nbformat": 4,
 "nbformat_minor": 5
}
